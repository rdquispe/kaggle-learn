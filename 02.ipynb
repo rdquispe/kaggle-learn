{
  "cells": [
    {
      "metadata": {
        "_uuid": "64a9b12560eafb11a1a57841213e2e48b9a68ddf"
      },
      "cell_type": "markdown",
      "source": "**[Python Course Home Page](https://www.kaggle.com/learn/python)**\n\n---\n"
    },
    {
      "metadata": {
        "_uuid": "91a37c1f92ffee49592195861753db5c2e07131d"
      },
      "cell_type": "markdown",
      "source": "These exercises accompany the tutorial on [functions and getting help](https://www.kaggle.com/colinmorris/functions-and-getting-help).\n\nAs before, don't forget to run the setup code below before jumping into question 1."
    },
    {
      "metadata": {
        "_kg_hide-input": true,
        "_kg_hide-output": true,
        "_uuid": "3cba9fabb7ea61da4b0d4a48b5c30b5317312674",
        "trusted": true
      },
      "cell_type": "code",
      "source": "# SETUP. You don't need to worry for now about what this code does or how it works.\nfrom learntools.core import binder; binder.bind(globals())\nfrom learntools.python.ex2 import *\nprint('Setup complete.')",
      "execution_count": null,
      "outputs": []
    },
    {
      "metadata": {
        "_uuid": "5ef3fafffb67817540645d8bf6c68f3912047ed8"
      },
      "cell_type": "markdown",
      "source": "# Exercises"
    },
    {
      "metadata": {
        "_uuid": "ecb3d687c48f6a620cf72f23530d026a9e5e8ee3"
      },
      "cell_type": "markdown",
      "source": "## 1.\n\nComplete the body of the following function according to its docstring.\n\nHINT: Python has a builtin function `round`"
    },
    {
      "metadata": {
        "_uuid": "ef5fa194f360c3cc0ce8ea5589e27c457768986d",
        "trusted": true
      },
      "cell_type": "code",
      "source": "def round_to_two_places(num):\n    \"\"\"Return the given number rounded to two decimal places. \n    \n    >>> round_to_two_places(3.14159)\n    3.14\n    \"\"\"\n    # Replace this body with your own code.\n    # (\"pass\" is a keyword that does literally nothing. We used it as a placeholder\n    # because after we begin a code block, Python requires at least one line of code)\n    return round(num, 2)\n\nq1.check()",
      "execution_count": null,
      "outputs": []
    },
    {
      "metadata": {
        "_uuid": "ea99e9aa3e3e454a829ad4a8b543c62ba1cbd3f6",
        "trusted": true
      },
      "cell_type": "code",
      "source": "# Uncomment the following for a hint\n#q1.hint()\n# Or uncomment the following to peek at the solution\n#q1.solution()",
      "execution_count": null,
      "outputs": []
    },
    {
      "metadata": {
        "_uuid": "05aac937e85c3e02bde16988902671af8c446ae8"
      },
      "cell_type": "markdown",
      "source": "## 2.\nThe help for `round` says that `ndigits` (the second argument) may be negative.\nWhat do you think will happen when it is? Try some examples in the following cell?\n\nCan you think of a case where this would be useful?"
    },
    {
      "metadata": {
        "_uuid": "092d9525ddae97e3d9e3ddabab892fd28afc957a",
        "trusted": true
      },
      "cell_type": "code",
      "source": "ndigits=-1",
      "execution_count": null,
      "outputs": []
    },
    {
      "metadata": {
        "_uuid": "c0bd636460ef2777195729934ee4b60b92ff5f9e",
        "trusted": true
      },
      "cell_type": "code",
      "source": "q2.solution()",
      "execution_count": null,
      "outputs": []
    },
    {
      "metadata": {
        "_uuid": "9c287d9f51cafc390ecc887475246a5e9036c08d"
      },
      "cell_type": "markdown",
      "source": "## 3.\n\nIn a previous programming problem, the candy-sharing friends Alice, Bob and Carol tried to split candies evenly. For the sake of their friendship, any candies left over would be smashed. For example, if they collectively bring home 91 candies, they'll take 30 each and smash 1.\n\nBelow is a simple function that will calculate the number of candies to smash for *any* number of total candies.\n\nModify it so that it optionally takes a second argument representing the number of friends the candies are being split between. If no second argument is provided, it should assume 3 friends, as before.\n\nUpdate the docstring to reflect this new behaviour."
    },
    {
      "metadata": {
        "_uuid": "de0481bc60ccb08f35acbf7fb8fe54fb56bdaa84",
        "trusted": false
      },
      "cell_type": "code",
      "source": "def to_smash(total_candies):\n    \"\"\"Return the number of leftover candies that must be smashed after distributing\n    the given number of candies evenly between 3 friends.\n    \n    >>> to_smash(91)\n    1\n    \"\"\"\n    return total_candies % 3\n\nq3.check()",
      "execution_count": null,
      "outputs": []
    },
    {
      "metadata": {
        "_uuid": "5852a0bd3360576b5b4832f70146f8938a8ebbb9",
        "trusted": false
      },
      "cell_type": "code",
      "source": "#q3.hint()",
      "execution_count": null,
      "outputs": []
    },
    {
      "metadata": {
        "_uuid": "b898adc38037bae13fd668d73fc380506bff6d08",
        "trusted": false
      },
      "cell_type": "code",
      "source": "#q3.solution()",
      "execution_count": null,
      "outputs": []
    },
    {
      "metadata": {
        "_uuid": "003915b6295621ce2810ff50a664fa7e5b02056f"
      },
      "cell_type": "markdown",
      "source": "## 4.\n\nIt may not be fun, but reading and understanding error messages will be an important part of your Python career.\n\nEach code cell below contains some commented-out buggy code. For each cell...\n\n1. Read the code and predict what you think will happen when it's run.\n2. Then uncomment the code and run it to see what happens. (**Tip**: In the kernel editor, you can highlight several lines and press `ctrl`+`/` to toggle commenting.)\n3. Fix the code (so that it accomplishes its intended purpose without throwing an exception)\n\n<!-- TODO: should this be autochecked? Delta is probably pretty small. -->"
    },
    {
      "metadata": {
        "_uuid": "6ed5f030b78adb44bcbdc29c02fc7b785718e528",
        "trusted": false
      },
      "cell_type": "code",
      "source": "# ruound_to_two_places(9.9999)",
      "execution_count": null,
      "outputs": []
    },
    {
      "metadata": {
        "_uuid": "198db02c71878ad69fad7601f20abd41f8df59eb",
        "trusted": false
      },
      "cell_type": "code",
      "source": "# x = -10\n# y = 5\n# # Which of the two variables above has the smallest absolute value?\n# smallest_abs = min(abs(x, y))",
      "execution_count": null,
      "outputs": []
    },
    {
      "metadata": {
        "_uuid": "9725f8820bfb7cbae9b45e8f897e05ba7063549d",
        "trusted": false
      },
      "cell_type": "code",
      "source": "# def f(x):\n#     y = abs(x)\n# return y\n\n# print(f(5))",
      "execution_count": null,
      "outputs": []
    },
    {
      "metadata": {
        "_uuid": "79129461021581c87eaeaa0c65458c7b705fdd9c"
      },
      "cell_type": "markdown",
      "source": "## 5. <span title=\"A bit spicy\" style=\"color: darkgreen \">🌶️</span>\n\nFor this question, we'll be using two functions imported from Python's `time` module.\n\nThe [time](https://docs.python.org/3/library/time.html#time.time) function returns the number of seconds that have passed since the Epoch (aka [Unix time](https://en.wikipedia.org/wiki/Unix_time)). \n\n<!-- We've provided a function called `seconds_since_epoch` which returns the number of seconds that have passed since the Epoch (aka [Unix time](https://en.wikipedia.org/wiki/Unix_time)). -->\n\nTry it out below. Each time you run it, you should get a slightly larger number."
    },
    {
      "metadata": {
        "_uuid": "e67d99b72b9c51437185d031d6303f0b87e7340c",
        "trusted": false
      },
      "cell_type": "code",
      "source": "# Importing the function 'time' from the module of the same name. \n# (We'll discuss imports in more depth later)\nfrom time import time\nt = time()\nprint(t, \"seconds since the Epoch\")",
      "execution_count": null,
      "outputs": []
    },
    {
      "metadata": {
        "_uuid": "ae0dd1d5c90e5f9c8d315621dc70f3075937b733"
      },
      "cell_type": "markdown",
      "source": "We'll also be using a function called [sleep](https://docs.python.org/3/library/time.html#time.sleep), which makes us wait some number of seconds while it does nothing particular. (Sounds useful, right?)\n\nYou can see it in action by running the cell below:"
    },
    {
      "metadata": {
        "_uuid": "09434afcd64eeb6a248b00dbadebeead383b3d07",
        "trusted": false
      },
      "cell_type": "code",
      "source": "from time import sleep\nduration = 5\nprint(\"Getting sleepy. See you in\", duration, \"seconds\")\nsleep(duration)\nprint(\"I'm back. What did I miss?\")",
      "execution_count": null,
      "outputs": []
    },
    {
      "metadata": {
        "_uuid": "de9957496d7d23f257ac7acc38fba07817f0ad66"
      },
      "cell_type": "markdown",
      "source": "With the help of these functions, complete the function `time_call` below according to its docstring.\n\n<!-- (The sleep function will be useful for testing here since we have a pretty good idea of what something like `time_call(sleep, 1)` should return.) -->"
    },
    {
      "metadata": {
        "_uuid": "5043daa0072fd034f28a90c32bf99e1fb5ea946a",
        "trusted": false
      },
      "cell_type": "code",
      "source": "def time_call(fn, arg):\n    \"\"\"Return the amount of time the given function takes (in seconds) when called with the given argument.\n    \"\"\"\n    pass",
      "execution_count": null,
      "outputs": []
    },
    {
      "metadata": {
        "_uuid": "99256e638afcf4b1387cafd4176322ecae626512"
      },
      "cell_type": "markdown",
      "source": "How would you verify that `time_call` is working correctly? Think about it, and then check the answer with the `solution` function below`."
    },
    {
      "metadata": {
        "_uuid": "0a72df9ccd6852a8401955af91aeb2cec4f927db",
        "trusted": false
      },
      "cell_type": "code",
      "source": "#q5.hint()\n#q5.solution()",
      "execution_count": null,
      "outputs": []
    },
    {
      "metadata": {
        "_uuid": "287424c5e7bfc277239a4278c1032636123edde8"
      },
      "cell_type": "markdown",
      "source": "## 6. <span title=\"A bit spicy\" style=\"color: darkgreen \">🌶️</span>\n\n*Note: this question depends on a working solution to the previous question.*\n\nComplete the function below according to its docstring."
    },
    {
      "metadata": {
        "_uuid": "a0fe6702cd5a3c7e810ca74a8fac2d2a2bb539a7",
        "trusted": false
      },
      "cell_type": "code",
      "source": "def slowest_call(fn, arg1, arg2, arg3):\n    \"\"\"Return the amount of time taken by the slowest of the following function\n    calls: fn(arg1), fn(arg2), fn(arg3)\n    \"\"\"\n    pass",
      "execution_count": null,
      "outputs": []
    },
    {
      "metadata": {
        "_uuid": "09771b6bd13c8a2d06b757324a4c9e622e0396b2",
        "trusted": false
      },
      "cell_type": "code",
      "source": "#q6.hint()",
      "execution_count": null,
      "outputs": []
    },
    {
      "metadata": {
        "_uuid": "be2b65036c39b76d2cb40f2c01d80b20724aaac2",
        "trusted": false
      },
      "cell_type": "code",
      "source": "#q6.solution()",
      "execution_count": null,
      "outputs": []
    },
    {
      "metadata": {
        "_uuid": "bad2434cf1020fc5c49bfb8f1a890bfc1199929c"
      },
      "cell_type": "markdown",
      "source": "# Keep Going\n\nYou are ready for **[booleans and conditionals](https://www.kaggle.com/colinmorris/booleans-and-conditionals).**\n"
    },
    {
      "metadata": {
        "_uuid": "6255076253092ab278e7d481b9219c502ed46bcf"
      },
      "cell_type": "markdown",
      "source": "---\n**[Python Course Home Page](https://www.kaggle.com/learn/python)**\n\n"
    }
  ],
  "metadata": {
    "kernelspec": {
      "display_name": "Python 3",
      "language": "python",
      "name": "python3"
    },
    "language_info": {
      "name": "python",
      "version": "3.6.6",
      "mimetype": "text/x-python",
      "codemirror_mode": {
        "name": "ipython",
        "version": 3
      },
      "pygments_lexer": "ipython3",
      "nbconvert_exporter": "python",
      "file_extension": ".py"
    },
    "learntools_metadata": {
      "lesson_index": 1,
      "type": "exercise"
    }
  },
  "nbformat": 4,
  "nbformat_minor": 1
}