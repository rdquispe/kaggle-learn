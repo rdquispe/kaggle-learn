{
  "cells": [
    {
      "metadata": {
        "_uuid": "a488bfd34c2a464f3681122f31b2ffe3a5c47d98"
      },
      "cell_type": "markdown",
      "source": "**[Python Course Home Page](https://www.kaggle.com/learn/python)**\n\n---\n"
    },
    {
      "metadata": {
        "_uuid": "95e7b53383535ab107ff5d7d07a1730559c2e9bc"
      },
      "cell_type": "markdown",
      "source": "These exercises accompany the tutorial on [loops and list comprehensions](https://www.kaggle.com/colinmorris/loops-and-list-comprehensions).\n\nAs always, run the setup code below before working on the questions (and if you leave this notebook and come back later, remember to run the setup code again)."
    },
    {
      "metadata": {
        "_uuid": "79d426d4e5d5c0b59b14cc02a2ef1a956735123f",
        "trusted": true
      },
      "cell_type": "code",
      "source": "from learntools.core import binder; binder.bind(globals())\nfrom learntools.python.ex5 import *\nprint('Setup complete.')",
      "execution_count": null,
      "outputs": []
    },
    {
      "metadata": {
        "trusted": true,
        "_uuid": "be4414d508ef7afe898242d30c2b8f4a5305b854"
      },
      "cell_type": "code",
      "source": "",
      "execution_count": null,
      "outputs": []
    },
    {
      "metadata": {
        "_uuid": "78d6faa28c4d879a5a6623535530f6412d3296b7"
      },
      "cell_type": "markdown",
      "source": "# Exercises"
    },
    {
      "metadata": {
        "_uuid": "b5193dd7869881c2497c66d0f8c7de58820783fa"
      },
      "cell_type": "markdown",
      "source": "## 1.\n\nHave you ever felt debugging involved a bit of luck? The following program has a bug. Try to identify the bug and fix it."
    },
    {
      "metadata": {
        "_uuid": "cb036d7d46171cc4076479a5f8c5edf18a8317b0",
        "trusted": true
      },
      "cell_type": "code",
      "source": "def has_lucky_number(nums):\n    \"\"\"Return whether the given list of numbers is lucky. A lucky list contains\n    at least one number divisible by 7.\n    \"\"\"\n    for num in nums:\n        if num % 7 == 0:\n            return True\n        else:\n            return False",
      "execution_count": null,
      "outputs": []
    },
    {
      "metadata": {
        "_uuid": "a77f108788373f53e34c3b8e54f05770eb51cc0d"
      },
      "cell_type": "markdown",
      "source": "Try to identify the bug and fix it in the cell below:"
    },
    {
      "metadata": {
        "_uuid": "b3ae8fbc3d6cc6f34b47b439c02c4ad788a72109",
        "trusted": true
      },
      "cell_type": "code",
      "source": "def has_lucky_number(nums):\n    \"\"\"Return whether the given list of numbers is lucky. A lucky list contains\n    at least one number divisible by 7.\n    \"\"\"\n    for num in nums:\n        if num % 7 == 0:\n            return True\n    return False\n\nq1.check()",
      "execution_count": null,
      "outputs": []
    },
    {
      "metadata": {
        "_uuid": "de4579dcac98fe74db23225b2b6adfb3dcb490d9",
        "trusted": true
      },
      "cell_type": "code",
      "source": "#q1.hint()\nq1.solution()",
      "execution_count": null,
      "outputs": []
    },
    {
      "metadata": {
        "_uuid": "30b44ec2c4a52d215d09bbd008aba081589277e6"
      },
      "cell_type": "markdown",
      "source": "## 2.\n\n### a.\nLook at the Python expression below. What do you think we'll get when we run it? When you've made your prediction, uncomment the code and run the cell to see if you were right."
    },
    {
      "metadata": {
        "collapsed": true,
        "_uuid": "b2fa596919b00c89182eebf211dc9908ecfe599f",
        "trusted": false
      },
      "cell_type": "code",
      "source": "#[1, 2, 3, 4] > 2",
      "execution_count": null,
      "outputs": []
    },
    {
      "metadata": {
        "_uuid": "69ae776542136705c0c69e018615d0373b1a0e0c"
      },
      "cell_type": "markdown",
      "source": "### b\nR and Python have some libraries (like numpy and pandas) compare each element of the list to 2 (i.e. do an 'element-wise' comparison) and give us a list of booleans like `[False, False, True, True]`. \n\nImplement a function that reproduces this behaviour, returning a list of booleans corresponding to whether the corresponding element is greater than n.\n"
    },
    {
      "metadata": {
        "collapsed": true,
        "_uuid": "856b9a0a6064c5139bd09af11392a008630e121e",
        "trusted": false
      },
      "cell_type": "code",
      "source": "def elementwise_greater_than(L, thresh):\n    \"\"\"Return a list with the same length as L, where the value at index i is \n    True if L[i] is greater than thresh, and False otherwise.\n    \n    >>> elementwise_greater_than([1, 2, 3, 4], 2)\n    [False, False, True, True]\n    \"\"\"\n    pass\n\nq2.check()",
      "execution_count": null,
      "outputs": []
    },
    {
      "metadata": {
        "collapsed": true,
        "_uuid": "11e89023cfd7c2ae0ba6d635c6b6d655983e8c3b",
        "trusted": false
      },
      "cell_type": "code",
      "source": "#q2.solution()",
      "execution_count": null,
      "outputs": []
    },
    {
      "metadata": {
        "_uuid": "afac95cea37ae807b993989c2af32955ff59ea44"
      },
      "cell_type": "markdown",
      "source": "## 3.\n\nComplete the body of the function below according to its docstring"
    },
    {
      "metadata": {
        "collapsed": true,
        "_uuid": "333b2718f97e22e904717048f0676336ae7a9b9e",
        "trusted": false
      },
      "cell_type": "code",
      "source": "def menu_is_boring(meals):\n    \"\"\"Given a list of meals served over some period of time, return True if the\n    same meal has ever been served two days in a row, and False otherwise.\n    \"\"\"\n    pass\n\nq3.check()",
      "execution_count": null,
      "outputs": []
    },
    {
      "metadata": {
        "collapsed": true,
        "_uuid": "9dc0d512ac21fbe9c60c7dd2d9b1c47a82445899",
        "trusted": false
      },
      "cell_type": "code",
      "source": "#q3.hint()\n#q3.solution()",
      "execution_count": null,
      "outputs": []
    },
    {
      "metadata": {
        "_uuid": "a04d1a93891ce02fd21f299b8fdcbd5e52c5f949"
      },
      "cell_type": "markdown",
      "source": "## 4. <span title=\"A bit spicy\" style=\"color: darkgreen \">🌶️</span>\n\nNext to the Blackjack table, the Python Challenge Casino has a slot machine. You can get a result from the slot machine by calling `play_slot_machine()`. The number it returns is your winnings in dollars. Usually it returns 0.  But sometimes you'll get lucky and get a big payday. Try running it below:"
    },
    {
      "metadata": {
        "collapsed": true,
        "_uuid": "87ed2cdc8765d8bf6098eefc6c251cca21466e7a",
        "trusted": false
      },
      "cell_type": "code",
      "source": "play_slot_machine()",
      "execution_count": null,
      "outputs": []
    },
    {
      "metadata": {
        "_uuid": "bb04d6fbdd73d342f17dcff0c149af69185c24ea"
      },
      "cell_type": "markdown",
      "source": "By the way, did we mention that each play costs $1? Don't worry, we'll send you the bill later.\n\nOn average, how much money can you expect to gain (or lose) every time you play the machine?  The casino keeps it a secret, but you can estimate the average value of each pull using a technique called the **Monte Carlo method**. To estimate the average outcome, we simulate the scenario many times, and return the average result.\n\nComplete the following function to calculate the average value per play of the slot machine."
    },
    {
      "metadata": {
        "collapsed": true,
        "_uuid": "efe01e9e3be808b0fe85d61daf96d5de03e4b55a",
        "trusted": false
      },
      "cell_type": "code",
      "source": "def estimate_average_slot_payout(n_runs):\n    \"\"\"Run the slot machine n_runs times and return the average net profit per run.\n    Example calls (note that return value is nondeterministic!):\n    >>> estimate_average_slot_payout(1)\n    -1\n    >>> estimate_average_slot_payout(1)\n    0.5\n    \"\"\"\n    pass",
      "execution_count": null,
      "outputs": []
    },
    {
      "metadata": {
        "_uuid": "e703a42c2b609896338b9ef7daab99d719260c95"
      },
      "cell_type": "markdown",
      "source": "When you think you know the expected value per spin, uncomment the line below to see how close you were."
    },
    {
      "metadata": {
        "collapsed": true,
        "_uuid": "e6451e6117e27bc3e6b0c1cacfbc351a92c8e86e",
        "trusted": false
      },
      "cell_type": "code",
      "source": "#q4.solution()",
      "execution_count": null,
      "outputs": []
    },
    {
      "metadata": {
        "_uuid": "b9d3aaa50f26f5f58844d006a968cdabd1695828"
      },
      "cell_type": "markdown",
      "source": "# Keep Going\n\nYou are ready for **[strings and dictionaries](https://www.kaggle.com/colinmorris/strings-and-dictionaries).**\n\n"
    },
    {
      "metadata": {
        "_uuid": "ee3f56c3b14d0b836d6ea65b4ed2c3c8f8c731ca"
      },
      "cell_type": "markdown",
      "source": "---\n**[Python Course Home Page](https://www.kaggle.com/learn/python)**\n\n"
    }
  ],
  "metadata": {
    "kernelspec": {
      "display_name": "Python 3",
      "language": "python",
      "name": "python3"
    },
    "language_info": {
      "name": "python",
      "version": "3.6.6",
      "mimetype": "text/x-python",
      "codemirror_mode": {
        "name": "ipython",
        "version": 3
      },
      "pygments_lexer": "ipython3",
      "nbconvert_exporter": "python",
      "file_extension": ".py"
    },
    "learntools_metadata": {
      "lesson_index": 4,
      "type": "exercise"
    }
  },
  "nbformat": 4,
  "nbformat_minor": 1
}