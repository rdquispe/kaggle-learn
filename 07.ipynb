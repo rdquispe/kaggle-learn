{
  "cells": [
    {
      "metadata": {
        "_uuid": "29b7b007af4ce0b7823e62883a56d28217146ec5"
      },
      "cell_type": "markdown",
      "source": "**[Python Course Home Page](https://www.kaggle.com/learn/python)**\n\n---\n"
    },
    {
      "metadata": {
        "_uuid": "39728b0c8e76d816f59fa4d83e06dfe49372e7a1"
      },
      "cell_type": "markdown",
      "source": "These exercises accompany the tutorial on [imports](https://www.kaggle.com/colinmorris/working-with-external-libraries).\n\nThere are only four problems in this last set of exercises, but they're all pretty tricky, so be on guard! If you get stuck, don't hesitate to head to the [Learn Forum](https://kaggle.com/learn-forum) to discuss.\n\nRun the setup code below before working on the questions (and run it again if you leave this notebook and come back later)."
    },
    {
      "metadata": {
        "_uuid": "d34208cdc861ffd1712a4060f63f74e3478134eb",
        "trusted": true
      },
      "cell_type": "code",
      "source": "from learntools.core import binder; binder.bind(globals())\nfrom learntools.python.ex7 import *\nprint('Setup complete.')",
      "execution_count": null,
      "outputs": []
    },
    {
      "metadata": {
        "_uuid": "ad8bfc2c26a8d0d68a80a1ac5d7f893b50361b5e"
      },
      "cell_type": "markdown",
      "source": "# Exercises"
    },
    {
      "metadata": {
        "_uuid": "31e1fd01ff01464f599c9a8c2cb7f81f41ad751e"
      },
      "cell_type": "markdown",
      "source": "## 1.\n\nAfter completing [the exercises on lists and tuples](https://www.kaggle.com/kernels/fork/1275177), Jimmy noticed that, according to his `estimate_average_slot_payout` function, the slot machines at the Learn Python Casino are actually rigged *against* the house, and are profitable to play in the long run.\n\nStarting with $200 in his pocket, Jimmy has played the slots 500 times, recording his new balance in a list after each spin. He used Python's `matplotlib` library to make a graph of his balance over time:"
    },
    {
      "metadata": {
        "_uuid": "952034b1f7bf6160a99c9516b5bdd3f2e09d2830",
        "trusted": true
      },
      "cell_type": "code",
      "source": "# Import the jimmy_slots submodule\nfrom learntools.python import jimmy_slots\n# Call the get_graph() function to get Jimmy's graph\ngraph = jimmy_slots.get_graph()\ngraph",
      "execution_count": null,
      "outputs": []
    },
    {
      "metadata": {
        "_uuid": "eb01502f8683e77bf7bbcde7245827452428cbf7"
      },
      "cell_type": "markdown",
      "source": "As you can see, he's hit a bit of bad luck recently. He wants to tweet this along with some choice emojis, but, as it looks right now, his followers will probably find it confusing. He's asked if you can help him make the following changes:\n\n1. Add the title \"Results of 500 slot machine pulls\"\n2. Make the y-axis start at 0. \n3. Add the label \"Balance\" to the y-axis\n\nAfter calling `type(graph)` you see that Jimmy's graph is of type `matplotlib.axes._subplots.AxesSubplot`. Hm, that's a new one. By calling `dir(graph)`, you find three methods that seem like they'll be useful: `.set_title()`, `.set_ylim()`, and `.set_ylabel()`. \n\nUse these methods to complete the function `prettify_graph` according to Jimmy's requests. We've already checked off the first request for you (setting a title).\n\n(Remember: if you don't know what these methods do, use the `help()` function!)"
    },
    {
      "metadata": {
        "_uuid": "53e8833fa2ea9479a79d9fa1559cd34fa650ecc0",
        "trusted": true
      },
      "cell_type": "code",
      "source": "def prettify_graph(graph):\n    \"\"\"Modify the given graph according to Jimmy's requests: add a title, make the y-axis\n    start at 0, label the y-axis. (And, if you're feeling ambitious, format the tick marks\n    as dollar amounts using the \"$\" symbol.)\n    \"\"\"\n    graph.set_title(\"Results of 500 slot machine pulls\")\n    # Complete steps 2 and 3 here\n\ngraph = jimmy_slots.get_graph()\nprettify_graph(graph)\ngraph",
      "execution_count": null,
      "outputs": []
    },
    {
      "metadata": {
        "_uuid": "7fcf1b94ebf1e3131a4ecbb5a2095a9d2697f604"
      },
      "cell_type": "markdown",
      "source": "**Bonus:** Can you format the numbers on the y-axis so they look like dollar amounts? e.g. $200 instead of just 200.\n\n(We're not going to tell you what method(s) to use here. You'll need to go digging yourself with `dir(graph)` and/or `help(graph)`.)"
    },
    {
      "metadata": {
        "_uuid": "f4f2576b7cba1784928e019602edfffb2b49a216",
        "trusted": false
      },
      "cell_type": "code",
      "source": "#q1.solution()",
      "execution_count": null,
      "outputs": []
    },
    {
      "metadata": {
        "_uuid": "50e7dcb3b7ecb2477dbe6d01594590e5ed27b4d8"
      },
      "cell_type": "markdown",
      "source": "## 2. <span title=\"Spicy\" style=\"color: coral\">🌶️🌶️</span>\n\nThis is a very hard problem. Feel free to skip it if you are short on time:\n\nLuigi is trying to perform an analysis to determine the best items for winning races on the Mario Kart circuit. He has some data in the form of lists of dictionaries that look like...\n\n    [\n        {'name': 'Peach', 'items': ['green shell', 'banana', 'green shell',], 'finish': 3},\n        {'name': 'Bowser', 'items': ['green shell',], 'finish': 1},\n        # Sometimes the racer's name wasn't recorded\n        {'name': None, 'items': ['mushroom',], 'finish': 2},\n        {'name': 'Toad', 'items': ['green shell', 'mushroom'], 'finish': 1},\n    ]\n\n`'items'` is a list of all the power-up items the racer picked up in that race, and `'finish'` was their placement in the race (1 for first place, 3 for third, etc.).\n\nHe wrote the function below to take a list like this and return a dictionary mapping each item to how many times it was picked up by first-place finishers."
    },
    {
      "metadata": {
        "_uuid": "5634a9aaa28bb1036879c202a143ece5868aaa00",
        "trusted": true
      },
      "cell_type": "code",
      "source": "def best_items(racers):\n    \"\"\"Given a list of racer dictionaries, return a dictionary mapping items to the number\n    of times those items were picked up by racers who finished in first place.\n    \"\"\"\n    winner_item_counts = {}\n    for i in range(len(racers)):\n        # The i'th racer dictionary\n        racer = racers[i]\n        # We're only interested in racers who finished in first\n        if racer['finish'] == 1:\n            for i in racer['items']:\n                # Add one to the count for this item (adding it to the dict if necessary)\n                if i not in winner_item_counts:\n                    winner_item_counts[i] = 0\n                winner_item_counts[i] += 1\n\n        # Data quality issues :/ Print a warning about racers with no name set. We'll take care of it later.\n        if racer['name'] is None:\n            print(\"WARNING: Encountered racer with unknown name on iteration {}/{} (racer = {})\".format(\n                i+1, len(racers), racer['name'])\n                 )\n    return winner_item_counts",
      "execution_count": null,
      "outputs": []
    },
    {
      "metadata": {
        "_uuid": "b1f81cb1d4458fd531e986a4b014c41642129c36"
      },
      "cell_type": "markdown",
      "source": "He tried it on a small example list above and it seemed to work correctly:"
    },
    {
      "metadata": {
        "_uuid": "b87f294f04241215b27aeec239a449ae46fbe1f6",
        "trusted": true
      },
      "cell_type": "code",
      "source": "sample = [\n    {'name': 'Peach', 'items': ['green shell', 'banana', 'green shell',], 'finish': 3},\n    {'name': 'Bowser', 'items': ['green shell',], 'finish': 1},\n    {'name': None, 'items': ['mushroom',], 'finish': 2},\n    {'name': 'Toad', 'items': ['green shell', 'mushroom'], 'finish': 1},\n]\nbest_items(sample)",
      "execution_count": null,
      "outputs": []
    },
    {
      "metadata": {
        "_uuid": "48d332630ee83c579f8456625b1b807746b681b2"
      },
      "cell_type": "markdown",
      "source": "However, when he tried running it on his full dataset, the program crashed with a `TypeError`.\n\nCan you guess why? Try running the code cell below to see the error message Luigi is getting. Once you've identified the bug, fix it in the cell below (so that it runs without any errors).\n\nHint: Luigi's bug is similar to one we encountered in the [tutorial](https://www.kaggle.com/colinmorris/working-with-external-libraries) when we talked about star imports."
    },
    {
      "metadata": {
        "tags": [
          "raises-exception"
        ],
        "_uuid": "07fe341a057151bb3f0fab3dad339623594a5dd4",
        "trusted": true
      },
      "cell_type": "code",
      "source": "# Import luigi's full dataset of race data\nfrom learntools.python.luigi_analysis import full_dataset\n\n# Fix me!\ndef best_items(racers):\n    winner_item_counts = {}\n    for i in range(len(racers)):\n        # The i'th racer dictionary\n        racer = racers[i]\n        # We're only interested in racers who finished in first\n        if racer['finish'] == 1:\n            for i in racer['items']:\n                # Add one to the count for this item (adding it to the dict if necessary)\n                if i not in winner_item_counts:\n                    winner_item_counts[i] = 0\n                winner_item_counts[i] += 1\n\n        # Data quality issues :/ Print a warning about racers with no name set. We'll take care of it later.\n        if racer['name'] is None:\n            print(\"WARNING: Encountered racer with unknown name on iteration {}/{} (racer = {})\".format(\n                i+1, len(racers), racer['name'])\n                 )\n    return winner_item_counts\n\n# Try analyzing the imported full dataset\nbest_items(full_dataset)",
      "execution_count": null,
      "outputs": []
    },
    {
      "metadata": {
        "_uuid": "afda01c5c61fe28c4f4059463189e2ef49b1b8c4",
        "trusted": true
      },
      "cell_type": "code",
      "source": "q2.hint()",
      "execution_count": null,
      "outputs": []
    },
    {
      "metadata": {
        "_uuid": "acb3ea3390f14bd904ed504248d530c27e0fe43d",
        "trusted": true
      },
      "cell_type": "code",
      "source": "q2.solution()",
      "execution_count": null,
      "outputs": []
    },
    {
      "metadata": {
        "_uuid": "8df7f6c2e7873a4d987b6ba66b41c91f0604ef52"
      },
      "cell_type": "markdown",
      "source": "## 3. <span title=\"A bit spicy\" style=\"color: darkgreen \">🌶️</span>\n\nSuppose we wanted to create a new type to represent hands in blackjack. One thing we might want to do with this type is overload the comparison operators like `>` and `<=` so that we could use them to check whether one hand beats another. e.g. it'd be cool if we could do this:\n\n```python\n>>> hand1 = BlackjackHand(['K', 'A'])\n>>> hand2 = BlackjackHand(['7', '10', 'A'])\n>>> hand1 > hand2\nTrue\n```\n\nWell, we're not going to do all that in this question (defining custom classes is a bit beyond the scope of these lessons), but the code we're asking you to write in the function below is very similar to what we'd have to write if we were defining our own `BlackjackHand` class. (We'd put it in the `__gt__` magic method to define our custom behaviour for `>`.)\n\nFill in the body of the `blackjack_hand_greater_than` function according to the docstring."
    },
    {
      "metadata": {
        "_uuid": "3f6571eaff15ea41b6af2f158219a8d08e538597",
        "trusted": false
      },
      "cell_type": "code",
      "source": "def blackjack_hand_greater_than(hand_1, hand_2):\n    \"\"\"\n    Return True if hand_1 beats hand_2, and False otherwise.\n    \n    In order for hand_1 to beat hand_2 the following must be true:\n    - The total of hand_1 must not exceed 21\n    - The total of hand_1 must exceed the total of hand_2 OR hand_2's total must exceed 21\n    \n    Hands are represented as a list of cards. Each card is represented by a string.\n    \n    When adding up a hand's total, cards with numbers count for that many points. Face\n    cards ('J', 'Q', and 'K') are worth 10 points. 'A' can count for 1 or 11.\n    \n    When determining a hand's total, you should try to count aces in the way that \n    maximizes the hand's total without going over 21. e.g. the total of ['A', 'A', '9'] is 21,\n    the total of ['A', 'A', '9', '3'] is 14.\n    \n    Examples:\n    >>> blackjack_hand_greater_than(['K'], ['3', '4'])\n    True\n    >>> blackjack_hand_greater_than(['K'], ['10'])\n    False\n    >>> blackjack_hand_greater_than(['K', 'K', '2'], ['3'])\n    False\n    \"\"\"\n    pass\n\nq3.check()",
      "execution_count": null,
      "outputs": []
    },
    {
      "metadata": {
        "_uuid": "b4b544621dee1fb299d0d176e5f73f0184908437",
        "trusted": true
      },
      "cell_type": "code",
      "source": "#q3.hint()\nq3.solution()",
      "execution_count": null,
      "outputs": []
    },
    {
      "metadata": {
        "_uuid": "46ac53f6c8cf83208bb32ed5be6242fcdd07d197"
      },
      "cell_type": "markdown",
      "source": "## The end\n\nYou've finished the Python course. Congrats!\n\nAs always, if you have any questions about these exercises, or anything else you encountered in the course, come to the [Learn Forum](https://kaggle.com/learn-forum).\n\nYou probably didn't put in all these hours of learning Python just to play silly games of chance, right? If you're interested in applying your newfound Python skills to some data science tasks, check out some of our other lessons on [Kaggle Learn](https://www.kaggle.com/learn/overview). Most of them are in Python, including our courses on...\n\n- [Pandas for data manipulation](https://www.kaggle.com/learn/pandas)\n- [Machine learning with scikit-learn](https://www.kaggle.com/learn/machine-learning)\n- [Data visualization](https://www.kaggle.com/learn/data-visualisation)\n- [Deep learning with TensorFlow](https://www.kaggle.com/learn/deep-learning)\n\nHappy Pythoning!\n"
    },
    {
      "metadata": {
        "_uuid": "059a4525288b1cae24864565f1e9e307b410ab72"
      },
      "cell_type": "markdown",
      "source": "---\n**[Python Course Home Page](https://www.kaggle.com/learn/python)**\n\n"
    }
  ],
  "metadata": {
    "kernelspec": {
      "display_name": "Python 3",
      "language": "python",
      "name": "python3"
    },
    "language_info": {
      "name": "python",
      "version": "3.6.6",
      "mimetype": "text/x-python",
      "codemirror_mode": {
        "name": "ipython",
        "version": 3
      },
      "pygments_lexer": "ipython3",
      "nbconvert_exporter": "python",
      "file_extension": ".py"
    },
    "learntools_metadata": {
      "lesson_index": 6,
      "type": "exercise"
    }
  },
  "nbformat": 4,
  "nbformat_minor": 1
}